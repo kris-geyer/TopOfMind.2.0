{
 "cells": [
  {
   "cell_type": "code",
   "execution_count": null,
   "metadata": {},
   "outputs": [],
   "source": [
    "import pandas as pd\n",
    "import numpy as np\n",
    "import matplotlib.pyplot as plt\n",
    "from datetime import datetime\n",
    "\n",
    "# bokeh basics\n",
    "from bokeh.plotting import figure\n",
    "from bokeh.io import show, output_notebook\n",
    "from bokeh.models import DatetimeTickFormatter, HoverTool\n",
    "from bokeh.models.widgets import CheckboxGroup"
   ]
  },
  {
   "cell_type": "code",
   "execution_count": null,
   "metadata": {},
   "outputs": [],
   "source": [
    "df = pd.read_csv(\"clean EEG2.csv\")\n",
    "\n",
    "if(\"Unnamed: 0\" in df.columns):\n",
    "    df = df.drop(columns=['Unnamed: 0'])\n",
    "\n",
    "df.head(30)\n"
   ]
  },
  {
   "cell_type": "code",
   "execution_count": null,
   "metadata": {},
   "outputs": [],
   "source": [
    "df1 = df[df.isna().any(axis=1)]\n",
    "print(len(df))\n",
    "print(len(df1))\n",
    "\n",
    "df1.head(30)\n"
   ]
  },
  {
   "cell_type": "code",
   "execution_count": null,
   "metadata": {},
   "outputs": [],
   "source": [
    "#Split data frames into big gaps\n",
    "df = df.sort_values(by=['time'])\n",
    "df.index = range(len(df))\n",
    " \n",
    "pastTime = df[\"time\"][0]\n",
    "currentPeriod = 1\n",
    "for i in range(len(df)):\n",
    "    if pastTime < (df[\"time\"][i] - .1*60*1000):\n",
    "        currentPeriod += 1\n",
    "    pastTime = df[\"time\"][i]/1000\n",
    "    df.at[i,\"period\"] = currentPeriod\n",
    "    df.at[i, \"rTime\"] = datetime.utcfromtimestamp(pastTime.astype(int))\n",
    "    df.at[i, \"clock\"] = df.at[i,\"rTime\"].time()\n"
   ]
  },
  {
   "cell_type": "code",
   "execution_count": null,
   "metadata": {},
   "outputs": [],
   "source": [
    "p = figure(plot_width = 1000, plot_height = 1000, \n",
    "           title = 'EEG',\n",
    "           x_axis_label = 'Time', y_axis_label = 'Nano volts')\n",
    "p.xaxis.formatter=DatetimeTickFormatter(days=\"%m/%d %H:%M\",\n",
    "months=\"%m/%d %H:%M\",\n",
    "hours=\"%m/%d %H:%M\",\n",
    "minutes=\"%m/%d %H:%M\")\n",
    "\n",
    "hover = HoverTool()\n",
    "hover.tooltips = [('hour:minute', '@rTime{%H:%M}'), ('second:milisecnd', '@rTime{%S.%3Ns}') , ('volts', \"$y\"), ('index', '$index'), (\"ID\", \"@ID\")]\n",
    "hover.formatters = {'@rTime': 'datetime'}\n",
    "p.add_tools(hover)\n",
    "\n",
    "# Create a blank figure with labels\n",
    "\n",
    "p.line( 'clock','col1',  color='skyblue', source = df, legend_label=\"channel1\")\n",
    "p.line( 'clock','col2',  color='red', source = df, legend_label=\"channel2\")\n",
    "p.line( 'clock','col3', color='green', source = df, legend_label=\"channel3\")\n",
    "\n",
    "p.add_tools(hover)\n",
    "p.legend.location = \"top_left\"\n",
    "p.legend.click_policy=\"hide\"\n",
    "\n",
    "# Set to output the plot in the notebook\n",
    "output_notebook()\n",
    "# Show the plot\n",
    "show(p)\n"
   ]
  },
  {
   "cell_type": "code",
   "execution_count": null,
   "metadata": {},
   "outputs": [],
   "source": [
    "from bokeh.palettes import Spectral4\n",
    "from bokeh.plotting import figure, output_file, show\n",
    "\n",
    "p = figure(plot_width=800, plot_height=250, x_axis_type=\"datetime\")\n",
    "p.title.text = 'Click on legend entries to hide the corresponding lines'\n",
    "\n",
    "\n",
    "p.line(df['rTime'], df['col1'], line_width=2,color='skyblue',  alpha=0.8, legend_label=\"channel1\")\n",
    "p.line(df['rTime'], df['col2'], line_width=2, color='green',  alpha=0.8, legend_label=\"channel2\")\n",
    "p.line(df['rTime'], df['col3'], line_width=2, color='red',  alpha=0.8, legend_label=\"channel3\")\n",
    "\n",
    "p.legend.location = \"top_left\"\n",
    "p.legend.click_policy=\"hide\"\n",
    "\n",
    "output_notebook()\n",
    "\n",
    "show(p)"
   ]
  }
 ],
 "metadata": {
  "kernelspec": {
   "display_name": "Python 3",
   "language": "python",
   "name": "python3"
  },
  "language_info": {
   "codemirror_mode": {
    "name": "ipython",
    "version": 3
   },
   "file_extension": ".py",
   "mimetype": "text/x-python",
   "name": "python",
   "nbconvert_exporter": "python",
   "pygments_lexer": "ipython3",
   "version": "3.8.3"
  }
 },
 "nbformat": 4,
 "nbformat_minor": 4
}
